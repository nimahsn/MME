{
  "nbformat": 4,
  "nbformat_minor": 0,
  "metadata": {
    "colab": {
      "name": "2_3.ipynb",
      "provenance": [],
      "include_colab_link": true
    },
    "kernelspec": {
      "display_name": "Python 3",
      "language": "python",
      "name": "python3"
    },
    "language_info": {
      "codemirror_mode": {
        "name": "ipython",
        "version": 3
      },
      "file_extension": ".py",
      "mimetype": "text/x-python",
      "name": "python",
      "nbconvert_exporter": "python",
      "pygments_lexer": "ipython3",
      "version": "3.7.4"
    }
  },
  "cells": [
    {
      "cell_type": "markdown",
      "metadata": {
        "id": "view-in-github",
        "colab_type": "text"
      },
      "source": [
        "<a href=\"https://colab.research.google.com/github/pouya-parsa/MME/blob/master/2/2_3.ipynb\" target=\"_parent\"><img src=\"https://colab.research.google.com/assets/colab-badge.svg\" alt=\"Open In Colab\"/></a>"
      ]
    },
    {
      "cell_type": "code",
      "metadata": {
        "colab_type": "code",
        "id": "LI1RdytIljUA",
        "colab": {}
      },
      "source": [
        "import numpy as np"
      ],
      "execution_count": 0,
      "outputs": []
    },
    {
      "cell_type": "markdown",
      "metadata": {
        "colab_type": "text",
        "id": "uGen1SuPljUM"
      },
      "source": [
        "# 2.3\n",
        "# Inner Product and Vector Norms"
      ]
    },
    {
      "cell_type": "markdown",
      "metadata": {
        "colab_type": "text",
        "id": "ByJkDFg5ljUP"
      },
      "source": [
        "- Norms"
      ]
    },
    {
      "cell_type": "markdown",
      "metadata": {
        "id": "IzQJmzjYVqUR",
        "colab_type": "text"
      },
      "source": [
        "![Norms](https://drive.google.com/u/0/uc?id=1xjC6QfFfCP3ph_1YbW35Odwlq2dd9WG4&export=download)"
      ]
    },
    {
      "cell_type": "code",
      "metadata": {
        "colab_type": "code",
        "id": "zbYTvKo2ljUS",
        "colab": {}
      },
      "source": [
        "vec = np.array([1,2,3])"
      ],
      "execution_count": 0,
      "outputs": []
    },
    {
      "cell_type": "code",
      "metadata": {
        "colab_type": "code",
        "id": "C1_8RxoiljUZ",
        "outputId": "d99279c4-d20d-44f1-9435-926b0a9bfe29",
        "colab": {
          "base_uri": "https://localhost:8080/",
          "height": 34
        }
      },
      "source": [
        "np.linalg.norm(vec)            #2-norm\n",
        "np.linalg.norm(vec, ord=2)     #2-norm"
      ],
      "execution_count": 12,
      "outputs": [
        {
          "output_type": "execute_result",
          "data": {
            "text/plain": [
              "3.7416573867739413"
            ]
          },
          "metadata": {
            "tags": []
          },
          "execution_count": 12
        }
      ]
    },
    {
      "cell_type": "code",
      "metadata": {
        "colab_type": "code",
        "id": "HZ9adqGWljUi",
        "outputId": "b76b359a-f128-4dcd-da70-0985f9ec408c",
        "colab": {
          "base_uri": "https://localhost:8080/",
          "height": 34
        }
      },
      "source": [
        "np.linalg.norm(vec, np.inf) #max norm"
      ],
      "execution_count": 13,
      "outputs": [
        {
          "output_type": "execute_result",
          "data": {
            "text/plain": [
              "3.0"
            ]
          },
          "metadata": {
            "tags": []
          },
          "execution_count": 13
        }
      ]
    },
    {
      "cell_type": "code",
      "metadata": {
        "colab_type": "code",
        "id": "vhylneXHljUq",
        "outputId": "138a9f4f-14e8-4a34-bcc4-d518ede673ae",
        "colab": {
          "base_uri": "https://localhost:8080/",
          "height": 34
        }
      },
      "source": [
        "np.linalg.norm(vec, ord=-np.inf)#min norm"
      ],
      "execution_count": 14,
      "outputs": [
        {
          "output_type": "execute_result",
          "data": {
            "text/plain": [
              "1.0"
            ]
          },
          "metadata": {
            "tags": []
          },
          "execution_count": 14
        }
      ]
    },
    {
      "cell_type": "code",
      "metadata": {
        "colab_type": "code",
        "id": "JAeF2WYWljU0",
        "outputId": "5e172642-bc7f-4ee9-bac9-cb2b78752275",
        "colab": {
          "base_uri": "https://localhost:8080/",
          "height": 34
        }
      },
      "source": [
        "np.linalg.norm(vec, ord=1) #1-norm\n",
        "#note that for a 2-dimensional array this will return the maximum 1-norm along the column vectors"
      ],
      "execution_count": 15,
      "outputs": [
        {
          "output_type": "execute_result",
          "data": {
            "text/plain": [
              "6.0"
            ]
          },
          "metadata": {
            "tags": []
          },
          "execution_count": 15
        }
      ]
    },
    {
      "cell_type": "markdown",
      "metadata": {
        "colab_type": "text",
        "id": "YAzSWj1hljU7"
      },
      "source": [
        "- Error"
      ]
    },
    {
      "cell_type": "markdown",
      "metadata": {
        "id": "WrvPgFVcWziW",
        "colab_type": "text"
      },
      "source": [
        "![Error](https://drive.google.com/u/0/uc?id=1RGtNRl82XQnpQDEqtJjI5i5CON8Pmcfn&export=download)"
      ]
    },
    {
      "cell_type": "code",
      "metadata": {
        "colab_type": "code",
        "id": "GhmlCjI_ljU8",
        "colab": {}
      },
      "source": [
        "approximation_vec=np.array([1.1,2.2,3.3])"
      ],
      "execution_count": 0,
      "outputs": []
    },
    {
      "cell_type": "code",
      "metadata": {
        "colab_type": "code",
        "id": "eN_v4CHFljVC",
        "outputId": "0c6d4a99-9ddb-44e8-f8eb-0de0c852c3f4",
        "colab": {
          "base_uri": "https://localhost:8080/",
          "height": 34
        }
      },
      "source": [
        "np.linalg.norm(approximation_vec - vec) #absolute error"
      ],
      "execution_count": 17,
      "outputs": [
        {
          "output_type": "execute_result",
          "data": {
            "text/plain": [
              "0.3741657386773941"
            ]
          },
          "metadata": {
            "tags": []
          },
          "execution_count": 17
        }
      ]
    },
    {
      "cell_type": "code",
      "metadata": {
        "colab_type": "code",
        "id": "e1k5x4FxljVH",
        "outputId": "1f84cbf0-67d3-4c8c-edcd-823ae6d13f76",
        "colab": {
          "base_uri": "https://localhost:8080/",
          "height": 34
        }
      },
      "source": [
        "np.linalg.norm(approximation_vec - vec)/np.linalg.norm(vec) #relative error"
      ],
      "execution_count": 18,
      "outputs": [
        {
          "output_type": "execute_result",
          "data": {
            "text/plain": [
              "0.09999999999999999"
            ]
          },
          "metadata": {
            "tags": []
          },
          "execution_count": 18
        }
      ]
    },
    {
      "cell_type": "markdown",
      "metadata": {
        "id": "7no7aE21YehP",
        "colab_type": "text"
      },
      "source": [
        "- note that all different norms are equal:"
      ]
    },
    {
      "cell_type": "markdown",
      "metadata": {
        "id": "54j2tFRyY0Un",
        "colab_type": "text"
      },
      "source": [
        "![norms and cosine distance](https://drive.google.com/u/0/uc?id=1kKEXsKZWzr5NUPDho6nvKe6GQ-8hilDg&export=download)"
      ]
    },
    {
      "cell_type": "markdown",
      "metadata": {
        "colab_type": "text",
        "id": "xAPSBZIzljVO"
      },
      "source": [
        " In data mining applications it is common to use the cosine of the angle between\n",
        "    two vectors as a distance measure:"
      ]
    },
    {
      "cell_type": "code",
      "metadata": {
        "colab_type": "code",
        "id": "2kKDJDbIljVR",
        "outputId": "ca90a4f2-a51b-406b-adab-3a635ac0dc39",
        "colab": {
          "base_uri": "https://localhost:8080/",
          "height": 51
        }
      },
      "source": [
        "#cosine similarity\n",
        "cos_sim = np.dot(vec, approximation_vec)/(np.linalg.norm(vec)*np.linalg.norm(approximation_vec))\n",
        "print(cos_sim)\n",
        "\n",
        "#cosine distance\n",
        "1-cos_sim"
      ],
      "execution_count": 19,
      "outputs": [
        {
          "output_type": "stream",
          "text": [
            "1.0\n"
          ],
          "name": "stdout"
        },
        {
          "output_type": "execute_result",
          "data": {
            "text/plain": [
              "0.0"
            ]
          },
          "metadata": {
            "tags": []
          },
          "execution_count": 19
        }
      ]
    },
    {
      "cell_type": "code",
      "metadata": {
        "colab_type": "code",
        "id": "6dCLufQNljVY",
        "outputId": "121ad27a-af2e-4407-e804-901eafe5ea37",
        "colab": {
          "base_uri": "https://localhost:8080/",
          "height": 34
        }
      },
      "source": [
        "from scipy import spatial\n",
        "spatial.distance.cosine(vec, approximation_vec) #cosine distance with scipy"
      ],
      "execution_count": 20,
      "outputs": [
        {
          "output_type": "execute_result",
          "data": {
            "text/plain": [
              "0.0"
            ]
          },
          "metadata": {
            "tags": []
          },
          "execution_count": 20
        }
      ]
    },
    {
      "cell_type": "code",
      "metadata": {
        "colab_type": "code",
        "id": "3IYWriHSljVi",
        "colab": {}
      },
      "source": [
        ""
      ],
      "execution_count": 0,
      "outputs": []
    }
  ]
}
