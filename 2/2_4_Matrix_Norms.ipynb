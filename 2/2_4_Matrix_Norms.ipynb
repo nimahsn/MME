{
  "nbformat": 4,
  "nbformat_minor": 0,
  "metadata": {
    "colab": {
      "name": "2.4 Matrix Norms.ipynb",
      "provenance": [],
      "collapsed_sections": [],
      "authorship_tag": "ABX9TyMP3/krvo6fNbwr68KdVSCq",
      "include_colab_link": true
    },
    "kernelspec": {
      "name": "python3",
      "display_name": "Python 3"
    }
  },
  "cells": [
    {
      "cell_type": "markdown",
      "metadata": {
        "id": "view-in-github",
        "colab_type": "text"
      },
      "source": [
        "<a href=\"https://colab.research.google.com/github/pouya-parsa/MME/blob/master/2/2_4_Matrix_Norms.ipynb\" target=\"_parent\"><img src=\"https://colab.research.google.com/assets/colab-badge.svg\" alt=\"Open In Colab\"/></a>"
      ]
    },
    {
      "cell_type": "markdown",
      "metadata": {
        "id": "MXZ62AnNtkTy",
        "colab_type": "text"
      },
      "source": [
        "#2.4 Matrix Norms\n",
        "#Defintion"
      ]
    },
    {
      "cell_type": "markdown",
      "metadata": {
        "id": "x8_Xsx_YzcfF",
        "colab_type": "text"
      },
      "source": [
        "Defintion for matrix norm is as below which I think is weird\n",
        "<br>\n",
        "$||A|| = \\underset{x \\neq 0}{sup} \\frac{||Ax||}{||x||}$\n",
        "<br>\n",
        "it means norm of a matrix such as A is the largest member of $ \\frac{||Ax||}{||x||}$ for any vector $x$ (supremum to be exact)\n",
        "<br>\n",
        "anyway if you accept this definition you can show it satisfies:\n",
        "<br>\n",
        "$\\begin{gather*}\n",
        "||A|| \\geqslant 0 \\quad \\text{for all A} \\\\\n",
        "||A|| = 0 \\quad \\text{if and only if } A = 0 \\\\\n",
        "||\\alpha A|| = |\\alpha|||A||, a \\in R, \\\\\n",
        "||A + B|| \\leq ||A|| + ||B|| \\quad \\text{the triangle inequality}\n",
        "\\end{gather*}$\n",
        "\n",
        "\n",
        "---\n",
        "\n"
      ]
    },
    {
      "cell_type": "markdown",
      "metadata": {
        "id": "guAxdQLbzy8v",
        "colab_type": "text"
      },
      "source": [
        "from the defintion above we can show :\n",
        "<br>\n",
        "$ ||Ax|| \\leq ||A||\\:||x||\n",
        "\\\\\n",
        "||AB|| \\leq ||A|| \\: ||B||\n",
        "$"
      ]
    },
    {
      "cell_type": "markdown",
      "metadata": {
        "id": "X4tP5I62zj4I",
        "colab_type": "text"
      },
      "source": [
        "# Norms And Codes"
      ]
    },
    {
      "cell_type": "code",
      "metadata": {
        "id": "pcENYHu4NEmc",
        "colab_type": "code",
        "colab": {}
      },
      "source": [
        "import  numpy as np\n",
        "from numpy import linalg as LA"
      ],
      "execution_count": 0,
      "outputs": []
    },
    {
      "cell_type": "code",
      "metadata": {
        "id": "a9_mEGvRN0Cl",
        "colab_type": "code",
        "colab": {}
      },
      "source": [
        "A = [\n",
        "     [2, -2, 1],\n",
        "     [-1, 3, -1],\n",
        "     [2, -4, 1]\n",
        "]"
      ],
      "execution_count": 0,
      "outputs": []
    },
    {
      "cell_type": "markdown",
      "metadata": {
        "id": "-rJMnKvWOaiQ",
        "colab_type": "text"
      },
      "source": [
        "$\n",
        "norm 1:\n",
        "\\underset{1 \\leq j \\leq n}{max} \\; \\overset{m}{\\underset{i=1}{\\sum}} |a_{i, j}| \\quad \\textrm{maximum of sum of columns}$"
      ]
    },
    {
      "cell_type": "code",
      "metadata": {
        "id": "NJ197RVxOXnU",
        "colab_type": "code",
        "colab": {}
      },
      "source": [
        "LA.norm(A, 1)"
      ],
      "execution_count": 0,
      "outputs": []
    },
    {
      "cell_type": "markdown",
      "metadata": {
        "id": "EIIL-MUGsR4g",
        "colab_type": "text"
      },
      "source": [
        "$ norm \\: 2: ||A||_2 = (\\underset{1 \\leq i \\leq n}{max} \\: \\lambda_i(A^TA))^{\\frac{1}{2}}$"
      ]
    },
    {
      "cell_type": "code",
      "metadata": {
        "id": "FeMKUw7KsIQA",
        "colab_type": "code",
        "colab": {}
      },
      "source": [
        "LA.norm(A, 2)"
      ],
      "execution_count": 0,
      "outputs": []
    },
    {
      "cell_type": "markdown",
      "metadata": {
        "id": "AlEJx2aeTGmi",
        "colab_type": "text"
      },
      "source": [
        "$\n",
        "norm\\:\\infty:\n",
        "\\underset{1 \\leq i \\leq m}{max} \\; \\overset{n}{\\underset{j=1}{\\sum}} |a_{i, j}| \\quad \\textrm{maximum of sum of rows}$"
      ]
    },
    {
      "cell_type": "code",
      "metadata": {
        "id": "gJ56ToHCVbhV",
        "colab_type": "code",
        "colab": {}
      },
      "source": [
        "LA.norm(A, np.inf)"
      ],
      "execution_count": 0,
      "outputs": []
    },
    {
      "cell_type": "markdown",
      "metadata": {
        "id": "X703wNdIWFUL",
        "colab_type": "text"
      },
      "source": [
        "Let $\\:A \\in R^{m \\times n}$ . In some cases we will treat the matrix not as a linear operator\n",
        "but rather as a **point** in a space of dimension mn, i.e., $R^{mn}$. Then we can use the\n",
        "Frobenius matrix norm, which is defined by"
      ]
    },
    {
      "cell_type": "markdown",
      "metadata": {
        "id": "46tkkkx6UagA",
        "colab_type": "text"
      },
      "source": [
        "\n",
        "$ \\textrm{Frobenius matrix norm} : ||A||_F = \\sqrt{\\overset{n}{\\underset{j=1}{\\sum}}\\overset{m}{\\underset{i=1}{\\sum}} a_{i, j}^{2}} = ||A||_F^2 = tr(A^TA)$\n",
        "<br>\n",
        "where the trace of a matrix $ B \\in R^{n \\times n}$ is the sum of its diagonal elements,\n",
        "<br>\n",
        "$tr(B) = \\overset{n}{\\underset{i=1}{\\sum}} b_{ii}$"
      ]
    },
    {
      "cell_type": "code",
      "metadata": {
        "id": "-hV0IMRVUJS1",
        "colab_type": "code",
        "colab": {}
      },
      "source": [
        "LA.norm(A, 'fro')"
      ],
      "execution_count": 0,
      "outputs": []
    },
    {
      "cell_type": "markdown",
      "metadata": {
        "id": "iODOrBeLW5v7",
        "colab_type": "text"
      },
      "source": [
        "The Frobenius norm **does not** correspond to a vector norm, so it is not an operator\n",
        "norm in that sense. This norm has the advantage that it is easier to compute than\n",
        "the 2-norm. The Frobenius matrix norm is actually closely related to the **Euclidean vector norm** in the sense that it is the Euclidean vector norm on the (linear space)\n",
        "of matrices $R^{m \\times n}$, when the matrices are identified with elements in $R^{mn}$."
      ]
    }
  ]
}