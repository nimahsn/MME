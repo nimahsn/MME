{
  "nbformat": 4,
  "nbformat_minor": 0,
  "metadata": {
    "colab": {
      "name": "2.5 Linear Independence: Bases.ipynb",
      "provenance": [],
      "mount_file_id": "1D3KZNyhk_gG-udAcljSn1rdKm9q2zfHI",
      "authorship_tag": "ABX9TyMAyyQ4JSbGEFYW7T3/MKf2",
      "include_colab_link": true
    },
    "kernelspec": {
      "name": "python3",
      "display_name": "Python 3"
    }
  },
  "cells": [
    {
      "cell_type": "markdown",
      "metadata": {
        "id": "view-in-github",
        "colab_type": "text"
      },
      "source": [
        "<a href=\"https://colab.research.google.com/github/mohammad-bornosi/MME/blob/master/2/2.5%20Linear_Independence_Bases.ipynb\" target=\"_parent\"><img src=\"https://colab.research.google.com/assets/colab-badge.svg\" alt=\"Open In Colab\"/></a>"
      ]
    },
    {
      "cell_type": "markdown",
      "metadata": {
        "id": "WyziMu8ng1ix",
        "colab_type": "text"
      },
      "source": [
        "a set of vectors (vj)j=1:n in Rm, m ≥ n ,set of linear combinations:\n",
        "\n",
        "![alt text](https://drive.google.com/uc?id=1RG0cLWO0thJUkrP9yBgVedDjAWyYSgKA)"
      ]
    },
    {
      "cell_type": "code",
      "metadata": {
        "id": "8SaLs8W-u4n7",
        "colab_type": "code",
        "colab": {
          "base_uri": "https://localhost:8080/",
          "height": 34
        },
        "outputId": "f6aa0bc8-7315-491a-94b6-950929ba676d"
      },
      "source": [
        "import numpy as np\n",
        "v = np.array([[1,0,0],[0,1,0],[0,0,1]])\n",
        "coefficients = ([1,2,3])\n",
        "result = np.linalg.solve(v,coefficients)\n",
        "result"
      ],
      "execution_count": 2,
      "outputs": [
        {
          "output_type": "execute_result",
          "data": {
            "text/plain": [
              "array([1., 2., 3.])"
            ]
          },
          "metadata": {
            "tags": []
          },
          "execution_count": 2
        }
      ]
    },
    {
      "cell_type": "markdown",
      "metadata": {
        "id": "M7a4YsL9nb_B",
        "colab_type": "text"
      },
      "source": [
        "for arbitrary coefficients αj . The vectors (vj)j=1:n are called linearly independent\n",
        "when:\n",
        "\n",
        "![alt text](https://drive.google.com/uc?id=14Wk8n572FFJbtqqv43Yl02lckJw_aBgR)"
      ]
    },
    {
      "cell_type": "markdown",
      "metadata": {
        "id": "xt1gT1HyozcY",
        "colab_type": "text"
      },
      "source": [
        "# linearly dependent\n",
        "\n",
        "![alt text](https://drive.google.com/uc?id=1DZoEjWXpRbHdW2NCakhysiPPqlWgR7nl)"
      ]
    },
    {
      "cell_type": "markdown",
      "metadata": {
        "id": "ZFW94-ASgDZN",
        "colab_type": "text"
      },
      "source": [
        "If we have a set of linearly dependent vectors, then we can keep a linearly\n",
        "independent subset and express the rest in terms of the linearly independent ones.\n",
        "Thus we can consider the number of linearly independent vectors as a measure of the\n",
        "information contents of the set and compress the set accordingly: take the linearly\n",
        "independent vectors as representatives (basis vectors) for the set, and compute the\n",
        "coordinates of the rest in terms of the basis. "
      ]
    },
    {
      "cell_type": "markdown",
      "metadata": {
        "id": "ECnTNirCgQd4",
        "colab_type": "text"
      },
      "source": [
        "in real applications we\n",
        "seldom have exactly linearly dependent vectors but rather almost linearly dependent\n",
        "vectors\n",
        ",It turns out that for such a data reduction procedure to be practical and\n",
        "numerically stable, we need the basis vectors to be not only linearly independent\n",
        "but orthogonal"
      ]
    }
  ]
}
