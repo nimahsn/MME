{
  "nbformat": 4,
  "nbformat_minor": 0,
  "metadata": {
    "colab": {
      "name": "2_6.ipynb",
      "provenance": [],
      "collapsed_sections": [],
      "authorship_tag": "ABX9TyOJ2H99rOQI8RY35ccDkgqf",
      "include_colab_link": true
    },
    "kernelspec": {
      "name": "python3",
      "display_name": "Python 3"
    }
  },
  "cells": [
    {
      "cell_type": "markdown",
      "metadata": {
        "id": "view-in-github",
        "colab_type": "text"
      },
      "source": [
        "<a href=\"https://colab.research.google.com/github/pouya-parsa/MME/blob/master/2/2_6.ipynb\" target=\"_parent\"><img src=\"https://colab.research.google.com/assets/colab-badge.svg\" alt=\"Open In Colab\"/></a>"
      ]
    },
    {
      "cell_type": "markdown",
      "metadata": {
        "id": "NEGp1oKAHDEb",
        "colab_type": "text"
      },
      "source": [
        "#Rank of Matrix"
      ]
    },
    {
      "cell_type": "markdown",
      "metadata": {
        "id": "PQqhkqT6HNYw",
        "colab_type": "text"
      },
      "source": [
        "- rank: maximum number of linearly independent column vectors\n",
        " - number of linearly independent row vectors."
      ]
    },
    {
      "cell_type": "markdown",
      "metadata": {
        "id": "R20yPdT-Hh34",
        "colab_type": "text"
      },
      "source": [
        "- An outer product matrix xy T , where x and y are vectors in R n ,\n",
        "has rank 1, proof:\n",
        " - ![proof!](https://drive.google.com/u/0/uc?id=1EAMlwCCup1ucv7bv_06o0QoAeVdvM_HO&export=download)"
      ]
    },
    {
      "cell_type": "markdown",
      "metadata": {
        "id": "xu4rXXL7JGIy",
        "colab_type": "text"
      },
      "source": [
        "- Nonsingular Matrix: A N*N square matrix with rank = N that has an inverse matrix A^-1 which satisfies:\n",
        " - ![alt text](https://drive.google.com/u/0/uc?id=1xue6He6k65-v8PHIbLXGnbTFzkai-NH9)\n",
        "  -If we multiply linearly independent vectors by a nonsingular matrix, then the\n",
        "vectors remain linearly independent.\n"
      ]
    },
    {
      "cell_type": "code",
      "metadata": {
        "id": "6xk4q3_1Jc-u",
        "colab_type": "code",
        "colab": {}
      },
      "source": [
        "import numpy as np"
      ],
      "execution_count": 0,
      "outputs": []
    },
    {
      "cell_type": "code",
      "metadata": {
        "id": "1OmAxZ9mKyKl",
        "colab_type": "code",
        "colab": {
          "base_uri": "https://localhost:8080/",
          "height": 34
        },
        "outputId": "a0bd11e3-7762-41b2-95e9-45881923ee82"
      },
      "source": [
        "mat_1 = np.array([[1,2,3],\n",
        "                 [4,5,6],\n",
        "                 [7,8,9]])\n",
        "np.linalg.matrix_rank(mat_1)"
      ],
      "execution_count": 5,
      "outputs": [
        {
          "output_type": "execute_result",
          "data": {
            "text/plain": [
              "2"
            ]
          },
          "metadata": {
            "tags": []
          },
          "execution_count": 5
        }
      ]
    },
    {
      "cell_type": "code",
      "metadata": {
        "id": "HkZdsPT-LCGB",
        "colab_type": "code",
        "colab": {
          "base_uri": "https://localhost:8080/",
          "height": 85
        },
        "outputId": "afb5f203-941e-4122-d2a9-bb6a0aa96c88"
      },
      "source": [
        "mat_2 = np.eye(3)\n",
        "print(np.linalg.matrix_rank(mat_2))\n",
        "print(mat_2)"
      ],
      "execution_count": 8,
      "outputs": [
        {
          "output_type": "stream",
          "text": [
            "3\n",
            "[[1. 0. 0.]\n",
            " [0. 1. 0.]\n",
            " [0. 0. 1.]]\n"
          ],
          "name": "stdout"
        }
      ]
    }
  ]
}