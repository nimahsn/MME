{
  "nbformat": 4,
  "nbformat_minor": 0,
  "metadata": {
    "colab": {
      "name": "3.2 Symmetric, Positive Definite Matrices.ipynb",
      "provenance": [],
      "mount_file_id": "1Hpe6xzt1QflJ1rsIgNvlJ4mfh1DCpazm",
      "authorship_tag": "ABX9TyO33hZhrwtmhbAmkmPH5H/m",
      "include_colab_link": true
    },
    "kernelspec": {
      "name": "python3",
      "display_name": "Python 3"
    }
  },
  "cells": [
    {
      "cell_type": "markdown",
      "metadata": {
        "id": "view-in-github",
        "colab_type": "text"
      },
      "source": [
        "<a href=\"https://colab.research.google.com/github/mohammad-bornosi/MME/blob/master/3/3.2%20Symmetric%2C_Positive_Definite_Matrices.ipynb\" target=\"_parent\"><img src=\"https://colab.research.google.com/assets/colab-badge.svg\" alt=\"Open In Colab\"/></a>"
      ]
    },
    {
      "cell_type": "markdown",
      "metadata": {
        "id": "OzcSX1UF8yNP",
        "colab_type": "text"
      },
      "source": [
        "# Symmetric, Positive Definite Matrices\n",
        "The LU decomposition of a symmetric, positive definite matrix A can always be\n",
        "computed without pivoting.\n",
        "LU decomposition fails when digonal entry after adding gussian elimination become zero can handle by pivoting but in symmetric, positive definite matrices digonal entry is more that zero\n",
        "\n",
        "https://www.youtube.com/watch?v=-WgyyxziBz8 "
      ]
    },
    {
      "cell_type": "markdown",
      "metadata": {
        "id": "H1kPFa-q_lWj",
        "colab_type": "text"
      },
      "source": [
        "In addition, it is possible to take advantage of symmetry so that the decomposition becomes symmetric, too, and requires half as much\n",
        "work as in the general case.\n"
      ]
    },
    {
      "cell_type": "markdown",
      "metadata": {
        "id": "qI9il1cBAwly",
        "colab_type": "text"
      },
      "source": [
        "Theorem 3.3 (LDLT decomposition). Any symmetric, positive definite matrix\n",
        "A has a decomposition\n",
        "\n",
        "A = LDLT ,\n",
        "\n",
        "where L is lower triangular with ones on the main diagonal and D is a diagonal\n",
        "matrix with positive diagonal elements.\n"
      ]
    },
    {
      "cell_type": "markdown",
      "metadata": {
        "id": "0I5Vbk9gBnDg",
        "colab_type": "text"
      },
      "source": [
        "The diagonal elements in D are positive, and therefore we can put:\n",
        "\n",
        "![alt text](https://drive.google.com/uc?id=1BaLATvzV-6MWrkk8JZKMpcTcbhge_18_)\n",
        "\n",
        "and then we get:\n",
        "\n",
        "![alt text](https://drive.google.com/uc?id=1-3PowO6XHPaFJ9Po5pe5bifxz0Yw7_6A)\n",
        "\n",
        "where U is an upper triangular matrix. This variant of the LDLT decomposition is\n",
        "called the Cholesky decomposition.\n",
        "\n"
      ]
    },
    {
      "cell_type": "code",
      "metadata": {
        "id": "CSQc2A9rEky7",
        "colab_type": "code",
        "colab": {
          "base_uri": "https://localhost:8080/",
          "height": 322
        },
        "outputId": "6fca9ab9-4eea-4484-a3b9-8633a4cf1cc5"
      },
      "source": [
        "import pprint\n",
        "import scipy\n",
        "import scipy.linalg   # SciPy Linear Algebra Library\n",
        "\n",
        "A = scipy.array([[6, 3, 4, 8], [3, 6, 5, 1], [4, 5, 10, 7], [8, 1, 7, 25]])\n",
        "L = scipy.linalg.cholesky(A, lower=True)\n",
        "U = scipy.linalg.cholesky(A, lower=False)\n",
        "\n",
        "print(\"A:\")\n",
        "pprint.pprint(A)\n",
        "\n",
        "print(\"L:\")\n",
        "pprint.pprint(L)\n",
        "\n",
        "print(\"U:\")\n",
        "pprint.pprint(U)"
      ],
      "execution_count": 2,
      "outputs": [
        {
          "output_type": "stream",
          "text": [
            "A:\n",
            "array([[ 6,  3,  4,  8],\n",
            "       [ 3,  6,  5,  1],\n",
            "       [ 4,  5, 10,  7],\n",
            "       [ 8,  1,  7, 25]])\n",
            "L:\n",
            "array([[ 2.44948974,  0.        ,  0.        ,  0.        ],\n",
            "       [ 1.22474487,  2.12132034,  0.        ,  0.        ],\n",
            "       [ 1.63299316,  1.41421356,  2.30940108,  0.        ],\n",
            "       [ 3.26598632, -1.41421356,  1.58771324,  3.13249102]])\n",
            "U:\n",
            "array([[ 2.44948974,  1.22474487,  1.63299316,  3.26598632],\n",
            "       [ 0.        ,  2.12132034,  1.41421356, -1.41421356],\n",
            "       [ 0.        ,  0.        ,  2.30940108,  1.58771324],\n",
            "       [ 0.        ,  0.        ,  0.        ,  3.13249102]])\n"
          ],
          "name": "stdout"
        },
        {
          "output_type": "stream",
          "text": [
            "/usr/local/lib/python3.6/dist-packages/ipykernel_launcher.py:5: DeprecationWarning: scipy.array is deprecated and will be removed in SciPy 2.0.0, use numpy.array instead\n",
            "  \"\"\"\n"
          ],
          "name": "stderr"
        }
      ]
    }
  ]
}