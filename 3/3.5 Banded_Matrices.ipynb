{
  "nbformat": 4,
  "nbformat_minor": 0,
  "metadata": {
    "colab": {
      "name": "3.5 Banded Matrices.ipynb",
      "provenance": [],
      "mount_file_id": "17MkoveVVir2hiRCBs5Ib3RkjhHFFDeNk",
      "authorship_tag": "ABX9TyM7r13dK3SODMNEQcaTa3Ur",
      "include_colab_link": true
    },
    "kernelspec": {
      "name": "python3",
      "display_name": "Python 3"
    }
  },
  "cells": [
    {
      "cell_type": "markdown",
      "metadata": {
        "id": "view-in-github",
        "colab_type": "text"
      },
      "source": [
        "<a href=\"https://colab.research.google.com/github/mohammad-bornosi/MME/blob/master/3/3.5%20Banded_Matrices.ipynb\" target=\"_parent\"><img src=\"https://colab.research.google.com/assets/colab-badge.svg\" alt=\"Open In Colab\"/></a>"
      ]
    },
    {
      "cell_type": "markdown",
      "metadata": {
        "id": "sLpHbjWQVwKT",
        "colab_type": "text"
      },
      "source": [
        "# Banded Matrices\n",
        "\n",
        "If the nonzero elements are concentrated around the main diagonal, then\n",
        "the matrix is called a band matrix.\n",
        "\n",
        "matrix A is said to be a band\n",
        "matrix if there are natural numbers p and q such that:\n",
        "\n",
        "![alt text](https://drive.google.com/uc?id=1d1O2Cxxv6WLF8cVD3xdq_IXJZtv_UOdh)\n",
        "\n",
        "w = q + p + 1 is called the bandwidth of the matrix. From the example, we see that w is the maximal number of nonzero elements in any row of A\n",
        "\n",
        "We first consider the case p = q = 1. Such a band matrix is called \n",
        "tridiagonal.\n",
        "\n",
        "![alt text](https://drive.google.com/uc?id=1-1C25GqxN8gCWIlecQM47PmKFI_Zy1r8)\n",
        "\n",
        "The matrix can be stored in three vectors. In the solution of a tridiagonal system(thomas algorithm)Ax = b\n",
        "\n",
        " it is easy to utilize the structure\n",
        "\n",
        "# Tridiagonal Matrices: Thomas Algorithm:\n",
        "\n",
        "http://www.industrial-maths.com/ms6021_thomas.pdf\n",
        "\n",
        "in my opinion: LU decomposition that described by above link L cumpute by  adding coefficients of rows in matrix L, and U is THE final matrix that we cumpute by gussian elimination described in linked above but the\n",
        "diffrence is we dont need to change main diogonal elements to 1 by deviding  you can imagine thomas algorithm in this way:\n",
        "\n",
        "![alt text](https://drive.google.com/uc?id=1-1ebgrk2MbLx4X6BE49AZ1waumVl56Iw)\n",
        "\n",
        "\n",
        "In Gaussian elimination with partial pivoting, the band width of the uppertriangular matrix increases. If A has band width w = q + p +1(q diagonals under the main diagonal and p over), then, with partial pivoting, the factor U will have band width wU = p + q + 1.\n",
        "\n",
        "It is easy to see that no new nonzero elements will be created in L"
      ]
    },
    {
      "cell_type": "code",
      "metadata": {
        "id": "JyKW9U_64zyz",
        "colab_type": "code",
        "colab": {
          "base_uri": "https://localhost:8080/",
          "height": 269
        },
        "outputId": "a4fb6f04-4d5e-43d1-f38b-6e735d31d56a"
      },
      "source": [
        "#The factors L and U in the LU decomposition of a band matrix A are band matrices.\n",
        "import scipy.linalg as LA\n",
        "import numpy as np\n",
        "from pprint import pprint\n",
        "A = np.array([\n",
        "    [2,1,0,0],\n",
        "    [-1,2,1,0],\n",
        "    [0,-1,2,1],\n",
        "    [0,0,-1,2]\n",
        "])\n",
        "P, L, U = LA.lu(A)\n",
        "\n",
        "print(\"P:\")\n",
        "pprint(P)\n",
        "\n",
        "print(\"L\")\n",
        "pprint(L)\n",
        "\n",
        "print(\"U:\")\n",
        "pprint(U)"
      ],
      "execution_count": 5,
      "outputs": [
        {
          "output_type": "stream",
          "text": [
            "P:\n",
            "array([[1., 0., 0., 0.],\n",
            "       [0., 1., 0., 0.],\n",
            "       [0., 0., 1., 0.],\n",
            "       [0., 0., 0., 1.]])\n",
            "L\n",
            "array([[ 1.        ,  0.        ,  0.        ,  0.        ],\n",
            "       [-0.5       ,  1.        ,  0.        ,  0.        ],\n",
            "       [ 0.        , -0.4       ,  1.        ,  0.        ],\n",
            "       [ 0.        ,  0.        , -0.41666667,  1.        ]])\n",
            "U:\n",
            "array([[2.        , 1.        , 0.        , 0.        ],\n",
            "       [0.        , 2.5       , 1.        , 0.        ],\n",
            "       [0.        , 0.        , 2.4       , 1.        ],\n",
            "       [0.        , 0.        , 0.        , 2.41666667]])\n"
          ],
          "name": "stdout"
        }
      ]
    },
    {
      "cell_type": "markdown",
      "metadata": {
        "id": "CFEy18Ld84Nm",
        "colab_type": "text"
      },
      "source": [
        "In Gaussian elimination with partial pivoting, the band width of the uppertriangular matrix increases. If A has band width w = q + p +1(q diagonals under the main diagonal and p over), then, with partial pivoting, the factor U will have\n",
        "band width wU = p + q + 1. It is easy to see that no new nonzero elements will be\n",
        "created in L"
      ]
    },
    {
      "cell_type": "markdown",
      "metadata": {
        "id": "howifgu38LG9",
        "colab_type": "text"
      },
      "source": [
        "# inverse of Tridiagonal Matrices:\n",
        "the inverse of a band matrix is usually a dense matrix.\n",
        "Therefore, in most cases the inverse of a band matrix should not be computed"
      ]
    },
    {
      "cell_type": "code",
      "metadata": {
        "id": "gC5ugMduCopp",
        "colab_type": "code",
        "colab": {
          "base_uri": "https://localhost:8080/",
          "height": 84
        },
        "outputId": "dd633f50-414e-4da3-95ea-5c8a95cd5fc4"
      },
      "source": [
        "from numpy.linalg import inv\n",
        "inv(A)"
      ],
      "execution_count": 6,
      "outputs": [
        {
          "output_type": "execute_result",
          "data": {
            "text/plain": [
              "array([[ 0.4137931 , -0.17241379,  0.06896552, -0.03448276],\n",
              "       [ 0.17241379,  0.34482759, -0.13793103,  0.06896552],\n",
              "       [ 0.06896552,  0.13793103,  0.34482759, -0.17241379],\n",
              "       [ 0.03448276,  0.06896552,  0.17241379,  0.4137931 ]])"
            ]
          },
          "metadata": {
            "tags": []
          },
          "execution_count": 6
        }
      ]
    }
  ]
}