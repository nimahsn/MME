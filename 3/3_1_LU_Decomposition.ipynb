{
  "nbformat": 4,
  "nbformat_minor": 0,
  "metadata": {
    "colab": {
      "name": "3.1 LU Decomposition.ipynb",
      "provenance": [],
      "collapsed_sections": [],
      "mount_file_id": "1SkwWt6w_nxaPUBm7o7CcbH1TdB_TqB8o",
      "authorship_tag": "ABX9TyNh4blQFDwpst9HCh4/COrw",
      "include_colab_link": true
    },
    "kernelspec": {
      "name": "python3",
      "display_name": "Python 3"
    }
  },
  "cells": [
    {
      "cell_type": "markdown",
      "metadata": {
        "id": "view-in-github",
        "colab_type": "text"
      },
      "source": [
        "<a href=\"https://colab.research.google.com/github/pouya-parsa/MME/blob/master/3/3_1_LU_Decomposition.ipynb\" target=\"_parent\"><img src=\"https://colab.research.google.com/assets/colab-badge.svg\" alt=\"Open In Colab\"/></a>"
      ]
    },
    {
      "cell_type": "markdown",
      "metadata": {
        "id": "XASeCwssh7f0",
        "colab_type": "text"
      },
      "source": [
        "#LU decompotion"
      ]
    },
    {
      "cell_type": "markdown",
      "metadata": {
        "id": "WHVRy5wxiQ2n",
        "colab_type": "text"
      },
      "source": [
        "in this chapter we are conern with solving linear systems of equations,\n",
        "<br>\n",
        "$\\begin{equation} Ax = b \\end{equation} \\qquad (3.1)$  \n",
        "</br>\n",
        "where $ A \\in R^{n \\times n}$ is square and nonsingular\n",
        "<br>\n",
        "we might know these systems an n equations and n variables; it also may be obvious that we can solve **overdetermined linear systems** where number of equations are greater than variables <br>\n",
        "$ A \\in R^{m \\times n}, \\quad $ where $ m \\gt n$  "
      ]
    },
    {
      "cell_type": "code",
      "metadata": {
        "id": "yanpK4tAHQ4K",
        "colab_type": "code",
        "colab": {}
      },
      "source": [
        "import scipy.linalg as LA\n",
        "import numpy as np\n",
        "from pprint import pprint"
      ],
      "execution_count": 0,
      "outputs": []
    },
    {
      "cell_type": "markdown",
      "metadata": {
        "id": "BorHnv_gm4V8",
        "colab_type": "text"
      },
      "source": [
        "Ex: suppose we want to solve equations:\n",
        "<br>\n",
        "$\n",
        "\\begin{gather*}\n",
        "x_1 + x_2 + x_3 = 5 \\\\\n",
        "x_1 + 2x_2 + 3x_3 = 8 \\\\\n",
        "3x_1 + 1x_2 + 6x_3 = 15\n",
        "\\end{gather*}$"
      ]
    },
    {
      "cell_type": "code",
      "metadata": {
        "id": "71ZnBkXlnYx_",
        "colab_type": "code",
        "colab": {}
      },
      "source": [
        "LA.solve([[1, 1, 1],\n",
        "          [1, 2, 3],\n",
        "          [3, 1, 6]],\n",
        "         [5,\n",
        "          8,\n",
        "          15])"
      ],
      "execution_count": 0,
      "outputs": []
    },
    {
      "cell_type": "markdown",
      "metadata": {
        "id": "eX_Mht_DkNkK",
        "colab_type": "text"
      },
      "source": [
        "**Proposition 3.1**. Let $ A \\in R^{n \\times n}$ and assume that A is *nonsingular*. Then for any\n",
        "right-hand-side b, the linear system $Ax = b$ has a unique solution."
      ]
    },
    {
      "cell_type": "markdown",
      "metadata": {
        "id": "C6h1sIzJj3b3",
        "colab_type": "text"
      },
      "source": [
        "**Proof.** because b is in n-dimensionals space and we have n independent vectors; we can definitely make n with linear combination of these n basic vectors"
      ]
    },
    {
      "cell_type": "markdown",
      "metadata": {
        "id": "dA40Fmbdf9Hy",
        "colab_type": "text"
      },
      "source": [
        "the purpose of LU decompotion is two make a matrix like A multiplication of two matrixes L and U, where L is a lower triangular matrix and U is an upper triangular matrix"
      ]
    },
    {
      "cell_type": "markdown",
      "metadata": {
        "id": "faE98gaehXeH",
        "colab_type": "text"
      },
      "source": [
        "Ex: suppose we want to find LU decomposition of matrix $ A = \\begin{pmatrix} \n",
        "1 & 1 & -1 \\\\\n",
        "1 & -2 & 3 \\\\ \n",
        "2 & 3 & 1\n",
        "\\end{pmatrix}$\n",
        "<br>\n",
        "watch [this video ](https://www.youtube.com/watch?v=m3EojSAgIao) to learn the algorithm"
      ]
    },
    {
      "cell_type": "code",
      "metadata": {
        "id": "BRy2zyFVLE5h",
        "colab_type": "code",
        "colab": {}
      },
      "source": [
        "A = np.array([\n",
        "    [1, 1, -1],\n",
        "    [1, -2, 3],\n",
        "    [2, 3, 1]\n",
        "])\n",
        "P, L, U = LA.lu(A)\n",
        "\n",
        "print(\"P:\")\n",
        "pprint(P)\n",
        "\n",
        "print(\"L\")\n",
        "pprint(L)\n",
        "\n",
        "print(\"U:\")\n",
        "pprint(U)"
      ],
      "execution_count": 0,
      "outputs": []
    },
    {
      "cell_type": "code",
      "metadata": {
        "id": "j60E--mgyN2-",
        "colab_type": "code",
        "cellView": "form",
        "colab": {}
      },
      "source": [
        "#@title Click here to watch a summary\n",
        "from IPython.display import HTML\n",
        "from base64 import b64encode\n",
        "mp4 = open('/content/drive/My Drive/3_1.mkv','rb').read()\n",
        "data_url = \"data:video/mp4;base64,\" + b64encode(mp4).decode()\n",
        "HTML(\"\"\"\n",
        "<video width=1000 controls requestFullScreen cover=\"/content/cover.jpg\">\n",
        "      <source src=\"%s\" type=\"video/mp4\">\n",
        "</video>\n",
        "\"\"\" % data_url)"
      ],
      "execution_count": 0,
      "outputs": []
    },
    {
      "cell_type": "markdown",
      "metadata": {
        "id": "EWE_Xizcl4tj",
        "colab_type": "text"
      },
      "source": [
        "the theorem below indicates that any nonsingular $ n \\times n$ matrix $ A $ can be decomposed into L and U matrixes\n",
        "<br>\n",
        "**Note:** a permutation matrix is an Identity matrix like $ I_n $ which it's rows has been reordered"
      ]
    },
    {
      "cell_type": "markdown",
      "metadata": {
        "id": "hDbKqDnEmLgl",
        "colab_type": "text"
      },
      "source": [
        "**Theorem 3.2 (LU decomposition)**. *Any nonsingular n × n matrix A can be decomposed into* \n",
        "<br>\n",
        "$P A = LU$,\n",
        "<br>\n",
        "where P is a permutation matrix, L is a lower triangular matrix with ones on the\n",
        "main diagonal, and U is an upper triang"
      ]
    }
  ]
}