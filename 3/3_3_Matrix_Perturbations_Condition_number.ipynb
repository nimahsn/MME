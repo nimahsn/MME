{
  "nbformat": 4,
  "nbformat_minor": 0,
  "metadata": {
    "colab": {
      "name": "3_3_Matrix_Perturbations_Condition_number.ipynb",
      "provenance": [],
      "authorship_tag": "ABX9TyPBkoKUPuHE9VjF1oQuYl2b",
      "include_colab_link": true
    },
    "kernelspec": {
      "name": "python3",
      "display_name": "Python 3"
    }
  },
  "cells": [
    {
      "cell_type": "markdown",
      "metadata": {
        "id": "view-in-github",
        "colab_type": "text"
      },
      "source": [
        "<a href=\"https://colab.research.google.com/github/pouya-parsa/MME/blob/master/3/3_3_Matrix_Perturbations_Condition_number.ipynb\" target=\"_parent\"><img src=\"https://colab.research.google.com/assets/colab-badge.svg\" alt=\"Open In Colab\"/></a>"
      ]
    },
    {
      "cell_type": "code",
      "metadata": {
        "id": "LYc334IHQq8h",
        "colab_type": "code",
        "colab": {}
      },
      "source": [
        "import numpy as np"
      ],
      "execution_count": 0,
      "outputs": []
    },
    {
      "cell_type": "markdown",
      "metadata": {
        "id": "E75RN1E2BfTM",
        "colab_type": "text"
      },
      "source": [
        "- Conditional Number of a Matrix"
      ]
    },
    {
      "cell_type": "markdown",
      "metadata": {
        "id": "wPMuaS4OQPzi",
        "colab_type": "text"
      },
      "source": [
        "![conditional number](https://drive.google.com/u/0/uc?id=1v9WolW9b00AemaF6QM6OKobxbq7qmH6I)\n"
      ]
    },
    {
      "cell_type": "code",
      "metadata": {
        "id": "ITUVjmSRRMHC",
        "colab_type": "code",
        "colab": {}
      },
      "source": [
        "mat_1 = np.array([[100, 100, 100],\n",
        "                  [100, 100, 101],\n",
        "                  [100,101,102]])"
      ],
      "execution_count": 0,
      "outputs": []
    },
    {
      "cell_type": "code",
      "metadata": {
        "id": "rpM90tkUStqi",
        "colab_type": "code",
        "outputId": "e0816537-088b-4902-82c3-3add7bf29568",
        "colab": {
          "base_uri": "https://localhost:8080/",
          "height": 34
        }
      },
      "source": [
        "np.linalg.norm(mat_1, ord=2) * np.linalg.norm(np.linalg.inv(mat_1), ord=2)"
      ],
      "execution_count": 0,
      "outputs": [
        {
          "output_type": "execute_result",
          "data": {
            "text/plain": [
              "903.5144883145215"
            ]
          },
          "metadata": {
            "tags": []
          },
          "execution_count": 22
        }
      ]
    },
    {
      "cell_type": "code",
      "metadata": {
        "id": "RFkfhpTlSpVp",
        "colab_type": "code",
        "outputId": "4f952f9b-d5a7-4afb-c654-340d32d60dc2",
        "colab": {
          "base_uri": "https://localhost:8080/",
          "height": 34
        }
      },
      "source": [
        "np.linalg.cond(mat_1)"
      ],
      "execution_count": 0,
      "outputs": [
        {
          "output_type": "execute_result",
          "data": {
            "text/plain": [
              "903.5144883145448"
            ]
          },
          "metadata": {
            "tags": []
          },
          "execution_count": 23
        }
      ]
    },
    {
      "cell_type": "code",
      "metadata": {
        "id": "-JfsSuPISzhq",
        "colab_type": "code",
        "outputId": "d4213e3b-14c6-44a6-fdc8-1b7015c6b0ec",
        "colab": {
          "base_uri": "https://localhost:8080/",
          "height": 34
        }
      },
      "source": [
        "np.linalg.cond(mat_1, p=np.inf) #conditional number with other types of norm"
      ],
      "execution_count": 0,
      "outputs": [
        {
          "output_type": "execute_result",
          "data": {
            "text/plain": [
              "1212.0"
            ]
          },
          "metadata": {
            "tags": []
          },
          "execution_count": 24
        }
      ]
    },
    {
      "cell_type": "markdown",
      "metadata": {
        "id": "WdJJmLy1TKG7",
        "colab_type": "text"
      },
      "source": [
        "- Theorem 3.5 (Perturbation Theory ??)"
      ]
    },
    {
      "cell_type": "markdown",
      "metadata": {
        "id": "dBSNvrmod773",
        "colab_type": "text"
      },
      "source": [
        "![alt text](https://drive.google.com/uc?id=18MhMGzhbYW9kUDti6qQ-hOlmUIQWhUpT)\n",
        "![alt text](https://drive.google.com/uc?id=14gTlB1ehdmy9Q1v1KVDB0AGKXZEMxfQp)"
      ]
    },
    {
      "cell_type": "markdown",
      "metadata": {
        "id": "AyJHKhxzeWuS",
        "colab_type": "text"
      },
      "source": [
        "Theorem 3.5 shows that a linear system with an ill-conditioned matrix is sensitive to perturbations in the data (i.e., the matrix and the right-hand side).\n"
      ]
    },
    {
      "cell_type": "code",
      "metadata": {
        "id": "VmebUwPzeiuZ",
        "colab_type": "code",
        "colab": {}
      },
      "source": [
        ""
      ],
      "execution_count": 0,
      "outputs": []
    }
  ]
}